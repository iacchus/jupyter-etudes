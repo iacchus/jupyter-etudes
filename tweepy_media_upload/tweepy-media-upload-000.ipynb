{
 "cells": [
  {
   "cell_type": "code",
   "execution_count": 1,
   "id": "cc689243-e3e0-45f9-8f6b-a44aa8a18994",
   "metadata": {},
   "outputs": [],
   "source": [
    "import tweepy"
   ]
  },
  {
   "cell_type": "code",
   "execution_count": 2,
   "id": "c82a8795-c7e6-4982-b668-57690b7fa9f5",
   "metadata": {},
   "outputs": [],
   "source": [
    "import secrets_xapi as creds"
   ]
  },
  {
   "cell_type": "markdown",
   "id": "118a3c42-7290-407f-8819-a869994a3aec",
   "metadata": {},
   "source": [
    "## Resources\n",
    "\n",
    "* https://devcommunity.x.com/t/announcing-media-upload-endpoints-in-the-x-api-v2/234175\n",
    "* https://github.com/ingeniumstudio/dhammapada-tweet-bot/blob/master/dhammapada-tweet-bot.py\n",
    "* https://stackoverflow.com/questions/70745572/how-to-upload-in-memory-image-with-tweepy\n",
    "\n"
   ]
  },
  {
   "cell_type": "code",
   "execution_count": 3,
   "id": "9432a1ae-fa19-41fc-b871-2d5f9841d21f",
   "metadata": {},
   "outputs": [],
   "source": [
    "client = tweepy.Client(consumer_key=creds.CONSUMER_KEY,\n",
    "                       consumer_secret=creds.CONSUMER_SECRET,\n",
    "                       access_token=creds.ACCESS_TOKEN,\n",
    "                       access_token_secret=creds.ACCESS_TOKEN_SECRET)"
   ]
  }
 ],
 "metadata": {
  "kernelspec": {
   "display_name": "Python 3 (ipykernel)",
   "language": "python",
   "name": "python3"
  },
  "language_info": {
   "codemirror_mode": {
    "name": "ipython",
    "version": 3
   },
   "file_extension": ".py",
   "mimetype": "text/x-python",
   "name": "python",
   "nbconvert_exporter": "python",
   "pygments_lexer": "ipython3",
   "version": "3.12.11"
  }
 },
 "nbformat": 4,
 "nbformat_minor": 5
}
