{
 "cells": [
  {
   "cell_type": "code",
   "execution_count": 1,
   "id": "e74828d1-419c-4a82-b5dd-8dc91cdc0dc5",
   "metadata": {},
   "outputs": [],
   "source": [
    "import os\n",
    "import shutil\n",
    "\n",
    "import gnupg"
   ]
  },
  {
   "cell_type": "code",
   "execution_count": 2,
   "id": "1e73290a-d584-49d3-aedd-19563358d19e",
   "metadata": {},
   "outputs": [
    {
     "data": {
      "text/plain": [
       "'/data/data/com.termux/files/home/git-stuff/jupyter-etudes/gnupg_container/gpg'"
      ]
     },
     "execution_count": 2,
     "metadata": {},
     "output_type": "execute_result"
    }
   ],
   "source": [
    "gpgdir = f\"{os.getcwd()}/gpg\"\n",
    "\n",
    "gpgdir"
   ]
  },
  {
   "cell_type": "code",
   "execution_count": 3,
   "id": "91926a58-4849-45de-b69b-265f8c250326",
   "metadata": {},
   "outputs": [],
   "source": [
    "shutil.rmtree(gpgdir)\n",
    "os.mkdir(gpgdir)"
   ]
  },
  {
   "cell_type": "code",
   "execution_count": 4,
   "id": "813c2f0c-965a-41cb-9f5d-271acf01789a",
   "metadata": {},
   "outputs": [
    {
     "data": {
      "text/plain": [
       "<gnupg.GPG at 0x73260233e0>"
      ]
     },
     "execution_count": 4,
     "metadata": {},
     "output_type": "execute_result"
    }
   ],
   "source": [
    "gpg = gnupg.GPG(gnupghome=gpgdir)\n",
    "gpg.encoding = \"utf-8\"\n",
    "\n",
    "gpg"
   ]
  },
  {
   "cell_type": "code",
   "execution_count": 5,
   "id": "ae9d6904-52cc-4217-892a-3431efb8ab63",
   "metadata": {},
   "outputs": [],
   "source": [
    "input_data = gpg.gen_key_input(key_type=\"RSA\", key_length=2048)\n",
    "\n",
    "master_key = gpg.gen_key(input_data)"
   ]
  },
  {
   "cell_type": "code",
   "execution_count": 6,
   "id": "69fc148c-a79a-4001-a194-4eab3be71cf7",
   "metadata": {},
   "outputs": [
    {
     "data": {
      "text/plain": [
       "['__class__',\n",
       " '__delattr__',\n",
       " '__dict__',\n",
       " '__dir__',\n",
       " '__doc__',\n",
       " '__eq__',\n",
       " '__format__',\n",
       " '__ge__',\n",
       " '__getattribute__',\n",
       " '__getstate__',\n",
       " '__gt__',\n",
       " '__hash__',\n",
       " '__init__',\n",
       " '__init_subclass__',\n",
       " '__le__',\n",
       " '__lt__',\n",
       " '__module__',\n",
       " '__ne__',\n",
       " '__new__',\n",
       " '__reduce__',\n",
       " '__reduce_ex__',\n",
       " '__repr__',\n",
       " '__setattr__',\n",
       " '__sizeof__',\n",
       " '__str__',\n",
       " '__subclasshook__',\n",
       " '__weakref__',\n",
       " '_collect_output',\n",
       " '_decode_result',\n",
       " '_get_fileobj',\n",
       " '_get_list_output',\n",
       " '_handle_io',\n",
       " '_open_subprocess',\n",
       " '_read_data',\n",
       " '_read_response',\n",
       " 'add_subkey',\n",
       " 'auto_locate_key',\n",
       " 'buffer_size',\n",
       " 'check_fingerprint_collisions',\n",
       " 'decode_errors',\n",
       " 'decrypt',\n",
       " 'decrypt_file',\n",
       " 'delete_keys',\n",
       " 'encoding',\n",
       " 'encrypt',\n",
       " 'encrypt_file',\n",
       " 'env',\n",
       " 'error_map',\n",
       " 'export_keys',\n",
       " 'gen_key',\n",
       " 'gen_key_input',\n",
       " 'get_recipients',\n",
       " 'get_recipients_file',\n",
       " 'gnupghome',\n",
       " 'gpgbinary',\n",
       " 'import_keys',\n",
       " 'import_keys_file',\n",
       " 'is_valid_file',\n",
       " 'is_valid_passphrase',\n",
       " 'keyring',\n",
       " 'list_keys',\n",
       " 'make_args',\n",
       " 'on_data',\n",
       " 'options',\n",
       " 'recv_keys',\n",
       " 'result_map',\n",
       " 'scan_keys',\n",
       " 'scan_keys_mem',\n",
       " 'search_keys',\n",
       " 'secret_keyring',\n",
       " 'send_keys',\n",
       " 'set_output_without_confirmation',\n",
       " 'sign',\n",
       " 'sign_file',\n",
       " 'trust_keys',\n",
       " 'use_agent',\n",
       " 'verbose',\n",
       " 'verify',\n",
       " 'verify_data',\n",
       " 'verify_file',\n",
       " 'version']"
      ]
     },
     "execution_count": 6,
     "metadata": {},
     "output_type": "execute_result"
    }
   ],
   "source": [
    "dir(master_key.gpg)"
   ]
  },
  {
   "cell_type": "code",
   "execution_count": 7,
   "id": "53d97b31-ecf7-4e02-8cd6-07d866cdb7fc",
   "metadata": {},
   "outputs": [
    {
     "ename": "ValueError",
     "evalue": "No master key fingerprint specified",
     "output_type": "error",
     "traceback": [
      "\u001b[31m---------------------------------------------------------------------------\u001b[39m",
      "\u001b[31mValueError\u001b[39m                                Traceback (most recent call last)",
      "\u001b[36mCell\u001b[39m\u001b[36m \u001b[39m\u001b[32mIn[7]\u001b[39m\u001b[32m, line 1\u001b[39m\n\u001b[32m----> \u001b[39m\u001b[32m1\u001b[39m subkey = \u001b[43mgpg\u001b[49m\u001b[43m.\u001b[49m\u001b[43madd_subkey\u001b[49m\u001b[43m(\u001b[49m\u001b[43mmaster_key\u001b[49m\u001b[43m)\u001b[49m\n",
      "\u001b[36mFile \u001b[39m\u001b[32m~/.venv/lib/python3.12/site-packages/gnupg.py:2049\u001b[39m, in \u001b[36mGPG.add_subkey\u001b[39m\u001b[34m(self, master_key, master_passphrase, algorithm, usage, expire)\u001b[39m\n\u001b[32m   2047\u001b[39m     \u001b[38;5;28;01mraise\u001b[39;00m \u001b[38;5;167;01mNotImplementedError\u001b[39;00m(\u001b[33m'\u001b[39m\u001b[33mNot available in GnuPG 1.x\u001b[39m\u001b[33m'\u001b[39m)\n\u001b[32m   2048\u001b[39m \u001b[38;5;28;01mif\u001b[39;00m \u001b[38;5;129;01mnot\u001b[39;00m master_key:  \u001b[38;5;66;03m# pragma: no cover\u001b[39;00m\n\u001b[32m-> \u001b[39m\u001b[32m2049\u001b[39m     \u001b[38;5;28;01mraise\u001b[39;00m \u001b[38;5;167;01mValueError\u001b[39;00m(\u001b[33m'\u001b[39m\u001b[33mNo master key fingerprint specified\u001b[39m\u001b[33m'\u001b[39m)\n\u001b[32m   2051\u001b[39m \u001b[38;5;28;01mif\u001b[39;00m master_passphrase \u001b[38;5;129;01mand\u001b[39;00m \u001b[38;5;129;01mnot\u001b[39;00m \u001b[38;5;28mself\u001b[39m.is_valid_passphrase(master_passphrase):  \u001b[38;5;66;03m# pragma: no cover\u001b[39;00m\n\u001b[32m   2052\u001b[39m     \u001b[38;5;28;01mraise\u001b[39;00m \u001b[38;5;167;01mValueError\u001b[39;00m(\u001b[33m'\u001b[39m\u001b[33mInvalid passphrase\u001b[39m\u001b[33m'\u001b[39m)\n",
      "\u001b[31mValueError\u001b[39m: No master key fingerprint specified"
     ]
    }
   ],
   "source": [
    "subkey = gpg.add_subkey(master_key)"
   ]
  },
  {
   "cell_type": "code",
   "execution_count": null,
   "id": "85ce2bd6-e63b-4cbf-aead-2294c1dd72ea",
   "metadata": {},
   "outputs": [],
   "source": [
    "master_key.fingerprint"
   ]
  },
  {
   "cell_type": "code",
   "execution_count": 9,
   "id": "b7f659d8-28e0-445b-8c83-362157d35008",
   "metadata": {},
   "outputs": [
    {
     "data": {
      "text/plain": [
       "[]"
      ]
     },
     "execution_count": 9,
     "metadata": {},
     "output_type": "execute_result"
    }
   ],
   "source": [
    "master_key.gpg.list_keys()"
   ]
  },
  {
   "cell_type": "code",
   "execution_count": null,
   "id": "b37cf298-4fc2-46eb-8cd4-47141a75cf34",
   "metadata": {},
   "outputs": [],
   "source": []
  }
 ],
 "metadata": {
  "kernelspec": {
   "display_name": "Python 3 (ipykernel)",
   "language": "python",
   "name": "python3"
  },
  "language_info": {
   "codemirror_mode": {
    "name": "ipython",
    "version": 3
   },
   "file_extension": ".py",
   "mimetype": "text/x-python",
   "name": "python",
   "nbconvert_exporter": "python",
   "pygments_lexer": "ipython3",
   "version": "3.12.11"
  }
 },
 "nbformat": 4,
 "nbformat_minor": 5
}
