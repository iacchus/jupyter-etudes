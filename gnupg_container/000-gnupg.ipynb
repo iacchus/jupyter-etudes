{
 "cells": [
  {
   "cell_type": "code",
   "execution_count": 1,
   "id": "e74828d1-419c-4a82-b5dd-8dc91cdc0dc5",
   "metadata": {},
   "outputs": [],
   "source": [
    "import os\n",
    "\n",
    "import gnupg"
   ]
  },
  {
   "cell_type": "code",
   "execution_count": 2,
   "id": "1e73290a-d584-49d3-aedd-19563358d19e",
   "metadata": {},
   "outputs": [
    {
     "data": {
      "text/plain": [
       "'/data/data/com.termux/files/home/git-stuff/jupyter-etudes/gnupg_container/gpg'"
      ]
     },
     "execution_count": 2,
     "metadata": {},
     "output_type": "execute_result"
    }
   ],
   "source": [
    "gpgdir = f\"{os.getcwd()}/gpg\"\n",
    "\n",
    "gpgdir"
   ]
  },
  {
   "cell_type": "code",
   "execution_count": 3,
   "id": "813c2f0c-965a-41cb-9f5d-271acf01789a",
   "metadata": {},
   "outputs": [
    {
     "data": {
      "text/plain": [
       "<gnupg.GPG at 0x7bc690b0e0>"
      ]
     },
     "execution_count": 3,
     "metadata": {},
     "output_type": "execute_result"
    }
   ],
   "source": [
    "gpg = gnupg.GPG(gnupghome=gpgdir)\n",
    "gpg"
   ]
  },
  {
   "cell_type": "code",
   "execution_count": 4,
   "id": "eea1661f-c41c-492f-93cf-91bef59460bb",
   "metadata": {},
   "outputs": [],
   "source": [
    "gpg.encoding = \"utf-8\""
   ]
  },
  {
   "cell_type": "code",
   "execution_count": 5,
   "id": "4f279416-e0b3-4142-a866-0a49e4fd4cdc",
   "metadata": {},
   "outputs": [],
   "source": [
    "input_data = gpg.gen_key_input(key_type=\"RSA\", key_length=2048)"
   ]
  },
  {
   "cell_type": "code",
   "execution_count": 7,
   "id": "c599e684-a804-42b9-ab05-8b6ec2306cf2",
   "metadata": {},
   "outputs": [],
   "source": [
    "master_key = gpg.gen_key(input_data)"
   ]
  },
  {
   "cell_type": "code",
   "execution_count": null,
   "id": "53d97b31-ecf7-4e02-8cd6-07d866cdb7fc",
   "metadata": {},
   "outputs": [],
   "source": []
  }
 ],
 "metadata": {
  "kernelspec": {
   "display_name": "Python 3 (ipykernel)",
   "language": "python",
   "name": "python3"
  },
  "language_info": {
   "codemirror_mode": {
    "name": "ipython",
    "version": 3
   },
   "file_extension": ".py",
   "mimetype": "text/x-python",
   "name": "python",
   "nbconvert_exporter": "python",
   "pygments_lexer": "ipython3",
   "version": "3.12.11"
  }
 },
 "nbformat": 4,
 "nbformat_minor": 5
}
