{
 "cells": [
  {
   "cell_type": "code",
   "execution_count": 1,
   "id": "bed3d350-308d-4430-afd1-989b3737b1b0",
   "metadata": {},
   "outputs": [],
   "source": [
    "#import zipfile\n",
    "\n",
    "import shutil"
   ]
  },
  {
   "cell_type": "code",
   "execution_count": 2,
   "id": "84ce1fcf-c9c2-4051-8b06-c0b55fecec9a",
   "metadata": {},
   "outputs": [],
   "source": [
    "#with zipfile.ZipFile(\"id.zip\", \"x\") as myid:\n",
    "#    myid.write(\"gpg\")"
   ]
  },
  {
   "cell_type": "code",
   "execution_count": 3,
   "id": "ff962b41-aed8-43f4-a198-a59eaa2544ea",
   "metadata": {},
   "outputs": [
    {
     "data": {
      "text/plain": [
       "'/data/data/com.termux/files/home/git-stuff/jupyter-etudes/gnupg_container/gpg.zip'"
      ]
     },
     "execution_count": 3,
     "metadata": {},
     "output_type": "execute_result"
    }
   ],
   "source": [
    "shutil.make_archive(\"gpg\", \"zip\", root_dir=\"gpg\")"
   ]
  },
  {
   "cell_type": "code",
   "execution_count": null,
   "id": "127a44ee-c111-4082-9729-e76bc71eb8d6",
   "metadata": {},
   "outputs": [],
   "source": []
  }
 ],
 "metadata": {
  "kernelspec": {
   "display_name": "Python 3 (ipykernel)",
   "language": "python",
   "name": "python3"
  },
  "language_info": {
   "codemirror_mode": {
    "name": "ipython",
    "version": 3
   },
   "file_extension": ".py",
   "mimetype": "text/x-python",
   "name": "python",
   "nbconvert_exporter": "python",
   "pygments_lexer": "ipython3",
   "version": "3.12.11"
  }
 },
 "nbformat": 4,
 "nbformat_minor": 5
}
