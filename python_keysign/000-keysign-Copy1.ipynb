{
 "cells": [
  {
   "cell_type": "code",
   "execution_count": 1,
   "id": "8bad09c1-157d-4aa2-be46-873aac429cbd",
   "metadata": {},
   "outputs": [],
   "source": [
    "from python_keysign import KeySign"
   ]
  },
  {
   "cell_type": "code",
   "execution_count": 2,
   "id": "bf27fce6-4c50-4221-bd5f-0e23b961bcdd",
   "metadata": {},
   "outputs": [],
   "source": [
    "a = KeySign()"
   ]
  },
  {
   "cell_type": "code",
   "execution_count": 3,
   "id": "8a7f05a3-a29f-4030-905d-b94734bc9e40",
   "metadata": {},
   "outputs": [
    {
     "data": {
      "text/plain": [
       "['export_priv',\n",
       " 'export_pub',\n",
       " 'generate_keys',\n",
       " 'load_private_key_file',\n",
       " 'load_public_key_file',\n",
       " 'sign',\n",
       " 'verify']"
      ]
     },
     "execution_count": 3,
     "metadata": {},
     "output_type": "execute_result"
    }
   ],
   "source": [
    "[item for item in dir(a) if not item.startswith(\"__\")]"
   ]
  },
  {
   "cell_type": "code",
   "execution_count": 4,
   "id": "be90f0ab-1756-4228-960f-ef13538d8057",
   "metadata": {},
   "outputs": [],
   "source": [
    "a.generate_keys()"
   ]
  },
  {
   "cell_type": "code",
   "execution_count": 5,
   "id": "147d0a5e-ed93-495d-8012-b0e28fae4c41",
   "metadata": {},
   "outputs": [
    {
     "data": {
      "text/plain": [
       "['export_priv',\n",
       " 'export_pub',\n",
       " 'generate_keys',\n",
       " 'load_private_key_file',\n",
       " 'load_public_key_file',\n",
       " 'private_key',\n",
       " 'public_key',\n",
       " 'sign',\n",
       " 'verify']"
      ]
     },
     "execution_count": 5,
     "metadata": {},
     "output_type": "execute_result"
    }
   ],
   "source": [
    "[item for item in dir(a) if not item.startswith(\"__\")]"
   ]
  },
  {
   "cell_type": "code",
   "execution_count": null,
   "id": "6f4e5fa4-cabd-4cc9-865b-19b64b69274e",
   "metadata": {},
   "outputs": [],
   "source": []
  }
 ],
 "metadata": {
  "kernelspec": {
   "display_name": "Python 3 (ipykernel)",
   "language": "python",
   "name": "python3"
  },
  "language_info": {
   "codemirror_mode": {
    "name": "ipython",
    "version": 3
   },
   "file_extension": ".py",
   "mimetype": "text/x-python",
   "name": "python",
   "nbconvert_exporter": "python",
   "pygments_lexer": "ipython3",
   "version": "3.12.11"
  }
 },
 "nbformat": 4,
 "nbformat_minor": 5
}
