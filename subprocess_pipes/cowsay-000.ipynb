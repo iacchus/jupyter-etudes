{
 "cells": [
  {
   "cell_type": "code",
   "execution_count": 1,
   "id": "156b376f-a7b3-4333-9e8c-a3524c3eacc4",
   "metadata": {},
   "outputs": [],
   "source": [
    "import subprocess"
   ]
  },
  {
   "cell_type": "code",
   "execution_count": 2,
   "id": "ccb67346-d867-4d07-bbc9-60ebfadd510f",
   "metadata": {},
   "outputs": [],
   "source": [
    "data = \"\"\"\\\n",
    "This is\n",
    "test.\\\n",
    "\"\"\""
   ]
  },
  {
   "cell_type": "code",
   "execution_count": 3,
   "id": "e6d7d016-1bd7-4725-af4a-b874fa2974a6",
   "metadata": {},
   "outputs": [],
   "source": [
    "cowsay = subprocess.run([\"cowsay\", \"-n\"],\n",
    "                        input=data,\n",
    "                        capture_output=True,\n",
    "                        text=True)"
   ]
  },
  {
   "cell_type": "code",
   "execution_count": 4,
   "id": "b6e1798d-577b-40c3-b065-b8fb93a3ed23",
   "metadata": {},
   "outputs": [
    {
     "name": "stdout",
     "output_type": "stream",
     "text": [
      " _________\n",
      "/ This is \\\n",
      "\\ test.   /\n",
      " ---------\n",
      "        \\   ^__^\n",
      "         \\  (oo)\\_______\n",
      "            (__)\\       )\\/\\\n",
      "                ||----w |\n",
      "                ||     ||\n",
      "\n"
     ]
    }
   ],
   "source": [
    "print(cowsay.stdout)"
   ]
  },
  {
   "cell_type": "code",
   "execution_count": 5,
   "id": "15ce5c40-999d-4e68-bdbe-787e38188d02",
   "metadata": {},
   "outputs": [],
   "source": [
    "box = subprocess.run([\"box\"],\n",
    "                     input=cowsay.stdout,\n",
    "                     capture_output=True,\n",
    "                     text=True)"
   ]
  },
  {
   "cell_type": "code",
   "execution_count": 6,
   "id": "c3bb4d53-1834-42c6-925c-00ac9a140797",
   "metadata": {},
   "outputs": [
    {
     "name": "stdout",
     "output_type": "stream",
     "text": [
      "┌──────────────────────────────┐\n",
      "│  _________                   │\n",
      "│ / This is \\                  │\n",
      "│ \\ test.   /                  │\n",
      "│  ---------                   │\n",
      "│         \\   ^__^             │\n",
      "│          \\  (oo)\\_______     │\n",
      "│             (__)\\       )\\/\\ │\n",
      "│                 ||----w |    │\n",
      "│                 ||     ||    │\n",
      "└──────────────────────────────┘\n",
      "\n"
     ]
    }
   ],
   "source": [
    "print(box.stdout)"
   ]
  },
  {
   "cell_type": "code",
   "execution_count": null,
   "id": "e7602f10-05c6-4f64-b07c-83b35957de4f",
   "metadata": {},
   "outputs": [],
   "source": []
  }
 ],
 "metadata": {
  "kernelspec": {
   "display_name": "Python 3 (ipykernel)",
   "language": "python",
   "name": "python3"
  },
  "language_info": {
   "codemirror_mode": {
    "name": "ipython",
    "version": 3
   },
   "file_extension": ".py",
   "mimetype": "text/x-python",
   "name": "python",
   "nbconvert_exporter": "python",
   "pygments_lexer": "ipython3",
   "version": "3.12.11"
  }
 },
 "nbformat": 4,
 "nbformat_minor": 5
}
